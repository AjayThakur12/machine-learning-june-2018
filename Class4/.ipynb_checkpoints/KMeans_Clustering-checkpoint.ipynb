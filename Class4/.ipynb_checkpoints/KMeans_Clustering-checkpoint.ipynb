{
 "cells": [
  {
   "cell_type": "code",
   "execution_count": 1,
   "metadata": {},
   "outputs": [],
   "source": [
    "import numpy as np\n",
    "import matplotlib.pyplot as plt\n",
    "%matplotlib inline"
   ]
  },
  {
   "cell_type": "code",
   "execution_count": 17,
   "metadata": {},
   "outputs": [
    {
     "name": "stdout",
     "output_type": "stream",
     "text": [
      "(500, 2)\n",
      "(500, 2)\n"
     ]
    }
   ],
   "source": [
    "## Generation of Input data\n",
    "mean_01 = np.array([0.0, 0.0])\n",
    "cov_01 = np.array([[1.0, 0.1], [0.1, 1.1]])\n",
    "\n",
    "mean_02 = np.array([6.0, 6.0])\n",
    "cov_02 = np.array([[1.0, 0.1], [0.1, 1.1]])\n",
    "\n",
    "dist_01 = np.random.multivariate_normal(mean_01, cov_01, 500)\n",
    "dist_02 = np.random.multivariate_normal(mean_02, cov_02, 500)\n",
    "\n",
    "print dist_01.shape\n",
    "print dist_02.shape"
   ]
  },
  {
   "cell_type": "code",
   "execution_count": 18,
   "metadata": {},
   "outputs": [
    {
     "data": {
      "image/png": "[encoded data removed]",
      "text/plain": [
       "<Figure size 432x288 with 1 Axes>"
      ]
     },
     "metadata": {},
     "output_type": "display_data"
    }
   ],
   "source": [
    "plt.scatter(dist_01[:, 0], dist_01[:, 1], c='red')\n",
    "plt.scatter(dist_02[:, 0], dist_02[:, 1], c='green')\n",
    "\n",
    "plt.show()"
   ]
  },
  {
   "cell_type": "code",
   "execution_count": 21,
   "metadata": {},
   "outputs": [
    {
     "name": "stdout",
     "output_type": "stream",
     "text": [
      "(1000, 2)\n",
      "(500, 4)\n",
      "(1000, 2)\n"
     ]
    }
   ],
   "source": [
    "data = np.vstack((dist_01, dist_02))\n",
    "print data.shape\n",
    "data_2 = np.hstack((dist_01, dist_02))\n",
    "print data_2.shape\n",
    "data_3 = np.concatenate((dist_01, dist_02))\n",
    "print data_3.shape"
   ]
  },
  {
   "cell_type": "code",
   "execution_count": 25,
   "metadata": {},
   "outputs": [
    {
     "name": "stdout",
     "output_type": "stream",
     "text": [
      "(10, 4)\n"
     ]
    }
   ],
   "source": [
    "t1 = np.random.random((10, 2))\n",
    "t2 = np.random.random((10, 2))\n",
    "ans = np.concatenate((t1, t2), axis=1)\n",
    "print ans.shape"
   ]
  },
  {
   "cell_type": "code",
   "execution_count": 27,
   "metadata": {},
   "outputs": [],
   "source": [
    "## Input Dataset\n",
    "data = np.vstack((dist_01, dist_02))\n",
    "np.random.shuffle(data)"
   ]
  },
  {
   "cell_type": "code",
   "execution_count": 28,
   "metadata": {},
   "outputs": [],
   "source": [
    "## KMeans clustering definition\n",
    "K = 4\n",
    "num_iters = 5\n",
    "clusters = {}\n",
    "colors = ['red', 'green', 'blue', 'yellow']\n",
    "for cx in range(K):\n",
    "    cluster_vals = {\n",
    "        'centroid': np.random.uniform(low=data.min(), high=data.max(), size=(data.shape[1])),\n",
    "        'points': [],\n",
    "        'color': colors[cx],\n",
    "        'history': []\n",
    "    }\n",
    "    clusters[cx] = cluster_vals"
   ]
  },
  {
   "cell_type": "code",
   "execution_count": 31,
   "metadata": {},
   "outputs": [
    {
     "data": {
      "text/plain": [
       "1.4142135623730951"
      ]
     },
     "execution_count": 31,
     "metadata": {},
     "output_type": "execute_result"
    }
   ],
   "source": [
    "## Distance Function\n",
    "def distance(p1, p2):\n",
    "    '''Eucledian Distance Function'''\n",
    "    return np.sqrt(((p1-p2)**2).sum())\n",
    "\n",
    "\n",
    "distance(np.array([0.0, 0.0]), np.array([1.0, 1.0]))"
   ]
  },
  {
   "cell_type": "code",
   "execution_count": 29,
   "metadata": {},
   "outputs": [
    {
     "name": "stdout",
     "output_type": "stream",
     "text": [
      "0 {'color': 'red', 'points': [], 'centroid': array([ 7.74612798, -1.44087635]), 'history': []}\n",
      "1 {'color': 'green', 'points': [], 'centroid': array([4.72662183, 2.02981928]), 'history': []}\n",
      "2 {'color': 'blue', 'points': [], 'centroid': array([ 2.28614037, -1.56526844]), 'history': []}\n",
      "3 {'color': 'yellow', 'points': [], 'centroid': array([ 6.35365007, -0.68034722]), 'history': []}\n"
     ]
    }
   ],
   "source": [
    "for cx in clusters:\n",
    "    print cx, clusters[cx]"
   ]
  },
  {
   "cell_type": "markdown",
   "metadata": {},
   "source": [
    "Steps in each iteration:\n",
    "1. Assign points to clusters\n",
    "    - Compute Distance\n",
    "    - Find argmin\n",
    "2. Update centroid location\n",
    "    - Compute Mean\n",
    "3. Initialise for next iteration\n",
    "    - Add to history\n",
    "    - Empty list"
   ]
  },
  {
   "cell_type": "code",
   "execution_count": null,
   "metadata": {},
   "outputs": [],
   "source": [
    "## KMeans algorithm\n",
    "for ix in range(num_iters):\n",
    "    plt.figure(ix)\n",
    "    \n",
    "    ## Step 1 - Assign Points to clusters\n",
    "    for px in range(data.shape[0]):\n",
    "        dist = []\n",
    "        for cx in range(K):\n",
    "            d = distance(data[px], clusters[cx]['centroid'])\n",
    "            dist.append(d)\n",
    "        \n",
    "        dist = np.array(dist)\n",
    "        cluster_id = np.argmin(dist)\n",
    "        clusters[cluster_id]['points'].append(data[px])\n",
    "        \n",
    "        ## For Visualisation\n",
    "        plt.scatter(data[px, 0], data[px, 1], c=clusters[cluster_id]['color'])\n",
    "    \n",
    "    ## Step 2 - Update cluster centroids\n",
    "    for cx in range(K):\n",
    "        old_centroid = clusters[cx]['centroid']\n",
    "        clusters[cx]['history'].append(old_centroid)\n",
    "        \n",
    "        if len(clusters[cx]['points']) > 0:\n",
    "            new_centroid = np.mean(np.array(clusters[cx]['points']), axis=0)\n",
    "            clusters[cx]['centroid'] = new_centroid\n",
    "            \n",
    "        ## Step 3 - Reinitialise\n",
    "        clusters[cx]['points'] = []\n",
    "        \n",
    "    plt.show()"
   ]
  },
  {
   "cell_type": "code",
   "execution_count": null,
   "metadata": {},
   "outputs": [],
   "source": []
  },
  {
   "cell_type": "code",
   "execution_count": null,
   "metadata": {},
   "outputs": [],
   "source": []
  },
  {
   "cell_type": "code",
   "execution_count": null,
   "metadata": {},
   "outputs": [],
   "source": []
  },
  {
   "cell_type": "code",
   "execution_count": null,
   "metadata": {},
   "outputs": [],
   "source": []
  },
  {
   "cell_type": "code",
   "execution_count": null,
   "metadata": {},
   "outputs": [],
   "source": []
  }
 ],
 "metadata": {
  "kernelspec": {
   "display_name": "Python 2",
   "language": "python",
   "name": "python2"
  },
  "language_info": {
   "codemirror_mode": {
    "name": "ipython",
    "version": 2
   },
   "file_extension": ".py",
   "mimetype": "text/x-python",
   "name": "python",
   "nbconvert_exporter": "python",
   "pygments_lexer": "ipython2",
   "version": "2.7.15"
  }
 },
 "nbformat": 4,
 "nbformat_minor": 2
}
