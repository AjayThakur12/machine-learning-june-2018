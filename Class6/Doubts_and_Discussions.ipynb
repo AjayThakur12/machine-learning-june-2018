{
 "cells": [
  {
   "cell_type": "code",
   "execution_count": 3,
   "metadata": {},
   "outputs": [
    {
     "name": "stdout",
     "output_type": "stream",
     "text": [
      "abcdefigh\n"
     ]
    }
   ],
   "source": [
    "x = '123(abcdefigh)'\n",
    "print x.split('(')[-1].split(')')[0]"
   ]
  },
  {
   "cell_type": "code",
   "execution_count": 5,
   "metadata": {},
   "outputs": [
    {
     "name": "stdout",
     "output_type": "stream",
     "text": [
      "1+2+3+4+5\n"
     ]
    }
   ],
   "source": [
    "x2 = ['1', '2', '3', '4', '5']\n",
    "ans = '+'.join(x2)\n",
    "print ans"
   ]
  },
  {
   "cell_type": "code",
   "execution_count": 7,
   "metadata": {},
   "outputs": [
    {
     "name": "stdout",
     "output_type": "stream",
     "text": [
      "name1\n",
      "name2, name3\n"
     ]
    }
   ],
   "source": [
    "my_string = 'name1, name2, name3'\n",
    "part1 = my_string.split(',')[0]\n",
    "part2 = ','.join(my_string.split(',')[1:]).strip()\n",
    "\n",
    "print part1\n",
    "print part2"
   ]
  },
  {
   "cell_type": "code",
   "execution_count": null,
   "metadata": {},
   "outputs": [],
   "source": []
  }
 ],
 "metadata": {
  "kernelspec": {
   "display_name": "Python 2",
   "language": "python",
   "name": "python2"
  },
  "language_info": {
   "codemirror_mode": {
    "name": "ipython",
    "version": 2
   },
   "file_extension": ".py",
   "mimetype": "text/x-python",
   "name": "python",
   "nbconvert_exporter": "python",
   "pygments_lexer": "ipython2",
   "version": "2.7.15"
  }
 },
 "nbformat": 4,
 "nbformat_minor": 2
}
