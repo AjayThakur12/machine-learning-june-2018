{
 "cells": [
  {
   "cell_type": "code",
   "execution_count": 1,
   "metadata": {},
   "outputs": [],
   "source": [
    "import numpy as np\n",
    "import matplotlib.pyplot as plt\n",
    "import cv2\n",
    "%matplotlib inline"
   ]
  },
  {
   "cell_type": "code",
   "execution_count": 2,
   "metadata": {},
   "outputs": [],
   "source": [
    "import pytesseract\n",
    "from PIL import Image, ImageEnhance, ImageFilter"
   ]
  },
  {
   "cell_type": "code",
   "execution_count": 3,
   "metadata": {},
   "outputs": [],
   "source": [
    "## Reorder target contour\n",
    "def reorder(h):\n",
    "    h = h.reshape((4,2))\n",
    "\n",
    "    \n",
    "    hnew = np.zeros((4,2), dtype=np.float32)\n",
    "    \n",
    "    add = h.sum(axis=1)\n",
    "    hnew[3] = h[np.argmin(add)]\n",
    "    hnew[1] = h[np.argmax(add)]\n",
    "    \n",
    "    diff = np.diff(h, axis=1)\n",
    "    hnew[0] = h[np.argmin(diff)]\n",
    "    hnew[2] = h[np.argmax(diff)]\n",
    "    \n",
    "    return hnew"
   ]
  },
  {
   "cell_type": "code",
   "execution_count": 6,
   "metadata": {},
   "outputs": [],
   "source": [
    "#img_path is path of the image needed to \n",
    "def convert_img_text(img_path):\n",
    "    img = cv2.imread(img_path)\n",
    "    print(img.shape)\n",
    "    img = cv2.resize(img, (1500, 800))\n",
    "    \n",
    "    ## Image Blurring\n",
    "    orig = img.copy()\n",
    "    gray = cv2.cvtColor(orig, cv2.COLOR_BGR2GRAY)\n",
    "    blurred = cv2.GaussianBlur(gray, (5,5), 0)\n",
    "    \n",
    "    ## Edge Detection\n",
    "    edged = cv2.Canny(blurred, 0, 50)\n",
    "    orig_edged = edged.copy()\n",
    "    \n",
    "    \n",
    "    ## Contours Extraction\n",
    "    _, contours, _ = cv2.findContours(edged, cv2.RETR_LIST, cv2.CHAIN_APPROX_NONE)\n",
    "    contours = sorted(contours, reverse=True, key=cv2.contourArea)\n",
    "    \n",
    "    ## Best Contour Selection\n",
    "    for c in contours:\n",
    "        p = cv2.arcLength(c, True)\n",
    "        approx = cv2.approxPolyDP(c, 0.02*p, True)\n",
    "    \n",
    "        if len(approx) == 4:\n",
    "            target = approx\n",
    "            break\n",
    "            \n",
    "    #reordering points        \n",
    "    reorderd = reorder(target)\n",
    "    \n",
    "    ## Project to a fixed size screen\n",
    "    input_represent = reorderd\n",
    "    output_map = np.float32([[0,0],[800,0],[800,800],[0,800]])\n",
    "    \n",
    "    M = cv2.getPerspectiveTransform(input_represent, output_map)\n",
    "    ans = cv2.warpPerspective(orig, M, (800,800))\n",
    "    \n",
    "    \n",
    "    #blurring again to increase readability\n",
    "    ans2 = cv2.cvtColor(ans, cv2.COLOR_BGR2GRAY)\n",
    "    temp = cv2.GaussianBlur(ans2, (1,1), 0)\n",
    "    now = cv2.cvtColor(temp, cv2.COLOR_GRAY2BGR)\n",
    "    \n",
    "    #converting into text\n",
    "    img=Image.fromarray(now)\n",
    "    img.save(\"refined_receipt.jpg\")\n",
    "    text = pytesseract.image_to_string(Image.open(\"refined_receipt.jpg\"))\n",
    "    print(text)\n",
    "    "
   ]
  },
  {
   "cell_type": "code",
   "execution_count": 7,
   "metadata": {},
   "outputs": [
    {
     "name": "stdout",
     "output_type": "stream",
     "text": [
      "(2448, 3264, 3)\n",
      "WHﬁLE\n",
      "WHFOODS\n",
      "\n",
      "UHDLE FOODS HﬂRKET — UESTPDRT.CT 05880\n",
      "399 POST RD NEST — (203) 227—6858\n",
      "\n",
      " \n",
      "\n",
      "365 BRCON LS NF 4 99\n",
      "365 BHCDN LS NP 4.99\n",
      "365 BQCON LS NP 4 99\n",
      "365 BHCON LS NF 4 99\n",
      "\n",
      "BROTH CHIC NP 2 19\n",
      "\n",
      "FLOUR RLNOND NP 1!.99\n",
      "\n",
      "CHKN BRST BNLSS SK NF 18 80\n",
      "HEAVY CRERH NP 3.39\n",
      "\n",
      "BHLSHC REDUCT NP 6.49\n",
      "\n",
      "BEEF ERND 85/15 NP 5.01\n",
      "JUICE CUP CRSHEU L NP 8.99\n",
      "DOCS PINT DRGHNIC NP 14.49\n",
      "\n",
      "HNY HLHDND BUTTER NP 9.99\n",
      "\n",
      "lI-l Yﬁx .00 BBL ‘01.33\n",
      "\n",
      ".“.l'ttlilti\n",
      "\n",
      "‘nn'nﬂ-n-n-n-nmﬂﬂwﬂ\n"
     ]
    }
   ],
   "source": [
    "convert_img_text('./receipt.jpg')"
   ]
  },
  {
   "cell_type": "code",
   "execution_count": null,
   "metadata": {},
   "outputs": [],
   "source": []
  },
  {
   "cell_type": "code",
   "execution_count": null,
   "metadata": {},
   "outputs": [],
   "source": []
  },
  {
   "cell_type": "code",
   "execution_count": null,
   "metadata": {},
   "outputs": [],
   "source": []
  },
  {
   "cell_type": "code",
   "execution_count": null,
   "metadata": {},
   "outputs": [],
   "source": []
  }
 ],
 "metadata": {
  "kernelspec": {
   "display_name": "Python 3",
   "language": "python",
   "name": "python3"
  },
  "language_info": {
   "codemirror_mode": {
    "name": "ipython",
    "version": 3
   },
   "file_extension": ".py",
   "mimetype": "text/x-python",
   "name": "python",
   "nbconvert_exporter": "python",
   "pygments_lexer": "ipython3",
   "version": "3.6.5"
  }
 },
 "nbformat": 4,
 "nbformat_minor": 2
}
